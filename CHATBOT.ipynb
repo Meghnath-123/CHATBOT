{
 "cells": [
  {
   "cell_type": "code",
   "execution_count": 2,
   "id": "bce5217b-69a4-4eef-9842-b5056ef31ff5",
   "metadata": {},
   "outputs": [
    {
     "name": "stdout",
     "output_type": "stream",
     "text": [
      "Note: you may need to restart the kernel to use updated packages.\n"
     ]
    },
    {
     "name": "stderr",
     "output_type": "stream",
     "text": [
      "ERROR: pip's dependency resolver does not currently take into account all the packages that are installed. This behaviour is the source of the following dependency conflicts.\n",
      "tensorflow-intel 2.16.2 requires protobuf!=4.21.0,!=4.21.1,!=4.21.2,!=4.21.3,!=4.21.4,!=4.21.5,<5.0.0dev,>=3.20.3, but you have protobuf 5.29.3 which is incompatible.\n",
      "\n",
      "[notice] A new release of pip is available: 24.1.2 -> 24.3.1\n",
      "[notice] To update, run: python.exe -m pip install --upgrade pip\n"
     ]
    }
   ],
   "source": [
    "pip install -q -U google-generativeai"
   ]
  },
  {
   "cell_type": "code",
   "execution_count": 2,
   "id": "398cd75e-02bb-4e65-a62c-a750cc30d8a3",
   "metadata": {},
   "outputs": [],
   "source": [
    "import google.generativeai as genai\n",
    "import os\n",
    "\n",
    "os.environ[\"GOOGLE_API_KEY\"] = \"YOUR_API_KEY\"\n",
    "genai.configure(api_key=os.environ[\"GOOGLE_API_KEY\"])"
   ]
  },
  {
   "cell_type": "code",
   "execution_count": 3,
   "id": "b73d4af2-f417-4c54-8fef-cd418861d2be",
   "metadata": {},
   "outputs": [
    {
     "name": "stdout",
     "output_type": "stream",
     "text": [
      "====================================================--------------------------\n",
      "Model Name: models/chat-bison-001, \n",
      " Description: A legacy text-only model optimized for chat conversations\n",
      "====================================================--------------------------\n",
      "====================================================--------------------------\n",
      "Model Name: models/text-bison-001, \n",
      " Description: A legacy model that understands text and generates text as an output\n",
      "====================================================--------------------------\n",
      "====================================================--------------------------\n",
      "Model Name: models/embedding-gecko-001, \n",
      " Description: Obtain a distributed representation of a text.\n",
      "====================================================--------------------------\n",
      "====================================================--------------------------\n",
      "Model Name: models/gemini-1.0-pro-latest, \n",
      " Description: The original Gemini 1.0 Pro model. This model will be discontinued on February 15th, 2025. Move to a newer Gemini version.\n",
      "====================================================--------------------------\n",
      "====================================================--------------------------\n",
      "Model Name: models/gemini-1.0-pro, \n",
      " Description: The best model for scaling across a wide range of tasks\n",
      "====================================================--------------------------\n",
      "====================================================--------------------------\n",
      "Model Name: models/gemini-pro, \n",
      " Description: The best model for scaling across a wide range of tasks\n",
      "====================================================--------------------------\n",
      "====================================================--------------------------\n",
      "Model Name: models/gemini-1.0-pro-001, \n",
      " Description: The original Gemini 1.0 Pro model version that supports tuning. Gemini 1.0 Pro will be discontinued on February 15th, 2025. Move to a newer Gemini version.\n",
      "====================================================--------------------------\n",
      "====================================================--------------------------\n",
      "Model Name: models/gemini-1.0-pro-vision-latest, \n",
      " Description: The original Gemini 1.0 Pro Vision model version which was optimized for image understanding. Gemini 1.0 Pro Vision was deprecated on July 12, 2024. Move to a newer Gemini version.\n",
      "====================================================--------------------------\n",
      "====================================================--------------------------\n",
      "Model Name: models/gemini-pro-vision, \n",
      " Description: The original Gemini 1.0 Pro Vision model version which was optimized for image understanding. Gemini 1.0 Pro Vision was deprecated on July 12, 2024. Move to a newer Gemini version.\n",
      "====================================================--------------------------\n",
      "====================================================--------------------------\n",
      "Model Name: models/gemini-1.5-pro-latest, \n",
      " Description: Alias that points to the most recent production (non-experimental) release of Gemini 1.5 Pro, our mid-size multimodal model that supports up to 2 million tokens.\n",
      "====================================================--------------------------\n",
      "====================================================--------------------------\n",
      "Model Name: models/gemini-1.5-pro-001, \n",
      " Description: Stable version of Gemini 1.5 Pro, our mid-size multimodal model that supports up to 2 million tokens, released in May of 2024.\n",
      "====================================================--------------------------\n",
      "====================================================--------------------------\n",
      "Model Name: models/gemini-1.5-pro-002, \n",
      " Description: Stable version of Gemini 1.5 Pro, our mid-size multimodal model that supports up to 2 million tokens, released in September of 2024.\n",
      "====================================================--------------------------\n",
      "====================================================--------------------------\n",
      "Model Name: models/gemini-1.5-pro, \n",
      " Description: Stable version of Gemini 1.5 Pro, our mid-size multimodal model that supports up to 2 million tokens, released in May of 2024.\n",
      "====================================================--------------------------\n",
      "====================================================--------------------------\n",
      "Model Name: models/gemini-1.5-pro-exp-0801, \n",
      " Description: Experimental release (December 6th, 2024) of Gemini.\n",
      "====================================================--------------------------\n",
      "====================================================--------------------------\n",
      "Model Name: models/gemini-1.5-pro-exp-0827, \n",
      " Description: Experimental release (December 6th, 2024) of Gemini.\n",
      "====================================================--------------------------\n",
      "====================================================--------------------------\n",
      "Model Name: models/gemini-1.5-flash-latest, \n",
      " Description: Alias that points to the most recent production (non-experimental) release of Gemini 1.5 Flash, our fast and versatile multimodal model for scaling across diverse tasks.\n",
      "====================================================--------------------------\n",
      "====================================================--------------------------\n",
      "Model Name: models/gemini-1.5-flash-001, \n",
      " Description: Stable version of Gemini 1.5 Flash, our fast and versatile multimodal model for scaling across diverse tasks, released in May of 2024.\n",
      "====================================================--------------------------\n",
      "====================================================--------------------------\n",
      "Model Name: models/gemini-1.5-flash-001-tuning, \n",
      " Description: Version of Gemini 1.5 Flash that supports tuning, our fast and versatile multimodal model for scaling across diverse tasks, released in May of 2024.\n",
      "====================================================--------------------------\n",
      "====================================================--------------------------\n",
      "Model Name: models/gemini-1.5-flash, \n",
      " Description: Alias that points to the most recent stable version of Gemini 1.5 Flash, our fast and versatile multimodal model for scaling across diverse tasks.\n",
      "====================================================--------------------------\n",
      "====================================================--------------------------\n",
      "Model Name: models/gemini-1.5-flash-exp-0827, \n",
      " Description: Experimental release (December 6th, 2024) of Gemini.\n",
      "====================================================--------------------------\n",
      "====================================================--------------------------\n",
      "Model Name: models/gemini-1.5-flash-002, \n",
      " Description: Stable version of Gemini 1.5 Flash, our fast and versatile multimodal model for scaling across diverse tasks, released in September of 2024.\n",
      "====================================================--------------------------\n",
      "====================================================--------------------------\n",
      "Model Name: models/gemini-1.5-flash-8b, \n",
      " Description: Stable version of Gemini 1.5 Flash-8B, our smallest and most cost effective Flash model, released in October of 2024.\n",
      "====================================================--------------------------\n",
      "====================================================--------------------------\n",
      "Model Name: models/gemini-1.5-flash-8b-001, \n",
      " Description: Stable version of Gemini 1.5 Flash-8B, our smallest and most cost effective Flash model, released in October of 2024.\n",
      "====================================================--------------------------\n",
      "====================================================--------------------------\n",
      "Model Name: models/gemini-1.5-flash-8b-latest, \n",
      " Description: Alias that points to the most recent production (non-experimental) release of Gemini 1.5 Flash-8B, our smallest and most cost effective Flash model, released in October of 2024.\n",
      "====================================================--------------------------\n",
      "====================================================--------------------------\n",
      "Model Name: models/gemini-1.5-flash-8b-exp-0827, \n",
      " Description: Experimental release (August 27th, 2024) of Gemini 1.5 Flash-8B, our smallest and most cost effective Flash model. Replaced by Gemini-1.5-flash-8b-001 (stable).\n",
      "====================================================--------------------------\n",
      "====================================================--------------------------\n",
      "Model Name: models/gemini-1.5-flash-8b-exp-0924, \n",
      " Description: Experimental release (September 24th, 2024) of Gemini 1.5 Flash-8B, our smallest and most cost effective Flash model. Replaced by Gemini-1.5-flash-8b-001 (stable).\n",
      "====================================================--------------------------\n",
      "====================================================--------------------------\n",
      "Model Name: models/gemini-2.0-flash-exp, \n",
      " Description: Gemini 2.0 Flash Experimental\n",
      "====================================================--------------------------\n",
      "====================================================--------------------------\n",
      "Model Name: models/gemini-exp-1206, \n",
      " Description: Experimental release (December 6th, 2024) of Gemini.\n",
      "====================================================--------------------------\n",
      "====================================================--------------------------\n",
      "Model Name: models/gemini-exp-1121, \n",
      " Description: Experimental release (December 6th, 2024) of Gemini.\n",
      "====================================================--------------------------\n",
      "====================================================--------------------------\n",
      "Model Name: models/gemini-exp-1114, \n",
      " Description: Experimental release (December 6th, 2024) of Gemini.\n",
      "====================================================--------------------------\n",
      "====================================================--------------------------\n",
      "Model Name: models/gemini-2.0-flash-thinking-exp, \n",
      " Description: Gemini 2.0 Flash Thinking Experimental\n",
      "====================================================--------------------------\n",
      "====================================================--------------------------\n",
      "Model Name: models/gemini-2.0-flash-thinking-exp-1219, \n",
      " Description: Gemini 2.0 Flash Thinking Experimental\n",
      "====================================================--------------------------\n",
      "====================================================--------------------------\n",
      "Model Name: models/learnlm-1.5-pro-experimental, \n",
      " Description: Alias that points to the most recent stable version of Gemini 1.5 Pro, our mid-size multimodal model that supports up to 2 million tokens.\n",
      "====================================================--------------------------\n",
      "====================================================--------------------------\n",
      "Model Name: models/embedding-001, \n",
      " Description: Obtain a distributed representation of a text.\n",
      "====================================================--------------------------\n",
      "====================================================--------------------------\n",
      "Model Name: models/text-embedding-004, \n",
      " Description: Obtain a distributed representation of a text.\n",
      "====================================================--------------------------\n",
      "====================================================--------------------------\n",
      "Model Name: models/aqa, \n",
      " Description: Model trained to return answers to questions that are grounded in provided sources, along with estimating answerable probability.\n",
      "====================================================--------------------------\n"
     ]
    }
   ],
   "source": [
    "def list_available_models():\n",
    "    models = genai.list_models()\n",
    "    for model in models:\n",
    "        print(\"====================================================--------------------------\")\n",
    "        print(f\"Model Name: {model.name}, \\n Description: {getattr(model, 'description', 'No description available')}\")\n",
    "        print(\"====================================================--------------------------\")\n",
    "\n",
    "list_available_models()"
   ]
  },
  {
   "cell_type": "code",
   "execution_count": 4,
   "id": "26a7f7ce-8e0c-41fd-8938-f03553ce74e1",
   "metadata": {},
   "outputs": [],
   "source": [
    "model = genai.GenerativeModel(\"models/gemini-pro\")"
   ]
  },
  {
   "cell_type": "code",
   "execution_count": 10,
   "id": "c9873b7b-d1a7-4b4f-a54c-57efd6574915",
   "metadata": {},
   "outputs": [],
   "source": [
    "prompt = \"What is universe\""
   ]
  },
  {
   "cell_type": "code",
   "execution_count": 11,
   "id": "d4542cf8-dd1c-4c5e-aaa0-83657c2c5f56",
   "metadata": {},
   "outputs": [
    {
     "data": {
      "text/plain": [
       "'**Definition:**\\n\\nThe universe refers to the totality of all matter and energy, as well as space and time. It encompasses everything that exists, from the subatomic particles to the vast cosmic structures and everything in between.\\n\\n**Components:**\\n\\n* **Matter:** Ordinary matter composed of atoms and molecules, such as stars, planets, and living organisms.\\n* **Dark matter:** A mysterious substance that has mass but does not interact with light or electromagnetic radiation.\\n* **Dark energy:** A hypothetical form of energy that permeates the universe and is responsible for its accelerated expansion.\\n* **Cosmic microwave background (CMB):** The leftover thermal radiation from the Big Bang, the event that created the universe.\\n* **Structure:**\\n    * **Galaxies:** Vast collections of stars, gas, and dust held together by gravity.\\n    * **Galaxy clusters:** Groups of galaxies that interact gravitationally.\\n    * **Superclusters:** Collections of several galaxy clusters.\\n    * **Universe:** The entirety of all galaxies and cosmic structures.\\n\\n**Origin and Evolution:**\\n\\nAccording to the prevailing cosmological model, the universe began with the Big Bang, an infinitely hot and dense point that expanded rapidly. Over billions of years, matter and energy organized into complex structures, such as galaxies and stars. The universe continues to evolve and expand at an accelerating rate.\\n\\n**Size and Age:**\\n\\n* **Observable universe:** The part of the universe that can be seen by telescopes, has a radius of approximately 46 billion light-years.\\n* **Actual size:** The true size of the entire universe is unknown and could be infinite.\\n* **Age:** The universe is estimated to be 13.8 billion years old.\\n\\n**Unknowns and Mysteries:**\\n\\nDespite significant scientific progress, many fundamental questions about the universe remain unanswered, including:\\n\\n* What is the true nature of dark matter and dark energy?\\n* What is the ultimate fate of the universe?\\n* Is there life beyond Earth?\\n* What is the origin of consciousness and the meaning of existence?'"
      ]
     },
     "execution_count": 11,
     "metadata": {},
     "output_type": "execute_result"
    }
   ],
   "source": [
    "model.generate_content(prompt).text"
   ]
  },
  {
   "cell_type": "markdown",
   "id": "01d55b1e-7867-447c-8882-95ce9e688982",
   "metadata": {},
   "source": [
    "# Structure Code"
   ]
  },
  {
   "cell_type": "code",
   "execution_count": 7,
   "id": "3d65e7e2-59ec-4cbe-b52d-d2d4ac139dbb",
   "metadata": {},
   "outputs": [],
   "source": [
    "def generate_contet(prompt):\n",
    "    response = model.generate_content(prompt)\n",
    "    return response.text"
   ]
  },
  {
   "cell_type": "code",
   "execution_count": 8,
   "id": "2fd67a92-8b6b-4c63-8353-83b125cc69e3",
   "metadata": {},
   "outputs": [
    {
     "name": "stdin",
     "output_type": "stream",
     "text": [
      "How may i help Today............ hello\n"
     ]
    },
    {
     "name": "stdout",
     "output_type": "stream",
     "text": [
      "\n",
      "\n",
      "==================================\n",
      " hi there! what can I do for you today?\n"
     ]
    }
   ],
   "source": [
    "prompt = input(\"How may i help Today............\")\n",
    "content = generate_contet(prompt)\n",
    "\n",
    "print(\"\\n\\n==================================\\n\",content)"
   ]
  },
  {
   "cell_type": "code",
   "execution_count": null,
   "id": "1686a0f4-5989-4485-82cb-c5d229687546",
   "metadata": {},
   "outputs": [],
   "source": []
  },
  {
   "cell_type": "code",
   "execution_count": null,
   "id": "4cd1a6c6-00d7-45a6-9d3a-7a6675482a6d",
   "metadata": {},
   "outputs": [],
   "source": []
  }
 ],
 "metadata": {
  "kernelspec": {
   "display_name": "Python 3.12",
   "language": "python",
   "name": "python312"
  },
  "language_info": {
   "codemirror_mode": {
    "name": "ipython",
    "version": 3
   },
   "file_extension": ".py",
   "mimetype": "text/x-python",
   "name": "python",
   "nbconvert_exporter": "python",
   "pygments_lexer": "ipython3",
   "version": "3.12.4"
  }
 },
 "nbformat": 4,
 "nbformat_minor": 5
}
